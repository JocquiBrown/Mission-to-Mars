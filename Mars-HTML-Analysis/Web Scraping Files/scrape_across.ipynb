{
 "cells": [
  {
   "cell_type": "code",
   "execution_count": 1,
   "id": "7b0c41fa",
   "metadata": {},
   "outputs": [
    {
     "name": "stderr",
     "output_type": "stream",
     "text": [
      "[WDM] - Downloading: 100%|███████████████████████████████████████████████████████████████████████████████████████████████████████████████████████████████████████████████████████████████| 6.79M/6.79M [00:00<00:00, 20.0MB/s]\n"
     ]
    }
   ],
   "source": [
    "# Import Scraping Tools, Set up Splinter and visit the Quotes to Scrape site\n",
    "from splinter import Browser\n",
    "from bs4 import BeautifulSoup as soup\n",
    "from webdriver_manager.chrome import ChromeDriverManager\n",
    "\n",
    "executable_path = {'executable_path': ChromeDriverManager().install()}\n",
    "browser = Browser('chrome', **executable_path, headless=False)\n",
    "\n",
    "url = 'http://quotes.toscrape.com/'\n",
    "browser.visit(url)\n",
    "html = browser.html\n",
    "quote_soup = soup(html, 'html.parser')"
   ]
  },
  {
   "cell_type": "code",
   "execution_count": 2,
   "id": "6e7f4ad1",
   "metadata": {
    "scrolled": true
   },
   "outputs": [
    {
     "name": "stdout",
     "output_type": "stream",
     "text": [
      "“The world as we have created it is a process of our thinking. It cannot be changed without changing our thinking.”\n",
      "“It is our choices, Harry, that show what we truly are, far more than our abilities.”\n",
      "“There are only two ways to live your life. One is as though nothing is a miracle. The other is as though everything is a miracle.”\n",
      "“The person, be it gentleman or lady, who has not pleasure in a good novel, must be intolerably stupid.”\n",
      "“Imperfection is beauty, madness is genius and it's better to be absolutely ridiculous than absolutely boring.”\n",
      "“Try not to become a man of success. Rather become a man of value.”\n",
      "“It is better to be hated for what you are than to be loved for what you are not.”\n",
      "“I have not failed. I've just found 10,000 ways that won't work.”\n",
      "“A woman is like a tea bag; you never know how strong it is until it's in hot water.”\n",
      "“A day without sunshine is like, you know, night.”\n"
     ]
    }
   ],
   "source": [
    "# Scrape all quotes on a single page\n",
    "quotes = quote_soup.find_all('span', class_='text')\n",
    "\n",
    "for quote in quotes:\n",
    "    print(quote.text)"
   ]
  },
  {
   "cell_type": "code",
   "execution_count": 5,
   "id": "6208796d",
   "metadata": {},
   "outputs": [
    {
     "name": "stdout",
     "output_type": "stream",
     "text": [
      "Quotes to Scrape\n",
      "Login\n",
      "(about)\n",
      "change\n",
      "deep-thoughts\n",
      "thinking\n",
      "world\n",
      "(about)\n",
      "abilities\n",
      "choices\n",
      "(about)\n",
      "inspirational\n",
      "life\n",
      "live\n",
      "miracle\n",
      "miracles\n",
      "(about)\n",
      "aliteracy\n",
      "books\n",
      "classic\n",
      "humor\n",
      "(about)\n",
      "be-yourself\n",
      "inspirational\n",
      "(about)\n",
      "adulthood\n",
      "success\n",
      "value\n",
      "(about)\n",
      "life\n",
      "love\n",
      "(about)\n",
      "edison\n",
      "failure\n",
      "inspirational\n",
      "paraphrased\n",
      "(about)\n",
      "misattributed-eleanor-roosevelt\n",
      "(about)\n",
      "humor\n",
      "obvious\n",
      "simile\n",
      "Next →\n",
      "love\n",
      "inspirational\n",
      "life\n",
      "humor\n",
      "books\n",
      "reading\n",
      "friendship\n",
      "friends\n",
      "truth\n",
      "simile\n",
      "GoodReads.com\n",
      "Scrapinghub\n"
     ]
    }
   ],
   "source": [
    "# Print a list of all the links on the first page by finding all of the anchor tags\n",
    "links = quote_soup.find_all('a')\n",
    "\n",
    "for link in links:\n",
    "    print(link.text)"
   ]
  },
  {
   "cell_type": "code",
   "execution_count": 6,
   "id": "53471bf1",
   "metadata": {},
   "outputs": [],
   "source": [
    "# Find a button/clickable link according to its text using the find_by_partial_text() method\n",
    "browser.links.find_by_partial_text('Next').click()"
   ]
  }
 ],
 "metadata": {
  "kernelspec": {
   "display_name": "PythonData",
   "language": "python",
   "name": "pythondata"
  },
  "language_info": {
   "codemirror_mode": {
    "name": "ipython",
    "version": 3
   },
   "file_extension": ".py",
   "mimetype": "text/x-python",
   "name": "python",
   "nbconvert_exporter": "python",
   "pygments_lexer": "ipython3",
   "version": "3.7.6"
  }
 },
 "nbformat": 4,
 "nbformat_minor": 5
}
